{
 "cells": [
  {
   "cell_type": "code",
   "execution_count": 33,
   "metadata": {},
   "outputs": [
    {
     "name": "stdout",
     "output_type": "stream",
     "text": [
      "https://www.smu.ac.kr/kor/life/restaurantView4.do?mode=view&articleNo=741356&article.offset=0&articleLimit=10\n"
     ]
    },
    {
     "data": {
      "text/plain": [
       "('학생식당/1203.png', <http.client.HTTPMessage at 0x130126bd0>)"
      ]
     },
     "execution_count": 33,
     "metadata": {},
     "output_type": "execute_result"
    }
   ],
   "source": [
    "from selenium import webdriver\n",
    "from webdriver_manager.chrome import ChromeDriverManager\n",
    "from selenium.webdriver.chrome.options import Options\n",
    "from selenium.webdriver.common.keys import Keys\n",
    "import time\n",
    "\n",
    "from selenium.webdriver.common.by import By\n",
    "from selenium.webdriver.support.ui import WebDriverWait\n",
    "from selenium.webdriver.support import expected_conditions as EC\n",
    "from bs4 import BeautifulSoup\n",
    "import requests\n",
    "import datetime\n",
    "import urllib\n",
    "\n",
    "# Create ChromeOptions object\n",
    "chrome_options = Options()\n",
    "\n",
    "driver_path = ChromeDriverManager().install()\n",
    "driver = webdriver.Chrome(options=chrome_options)\n",
    "\n",
    "driver.get(\"https://www.smu.ac.kr/kor/life/restaurantView4.do\")\n",
    "driver.find_element(By.CSS_SELECTOR, \"#ko > div.board-name-thumb.board-wrap > ul > li:nth-child(1) > dl > dt > a\").click() # 이번주 들어가는 것만\n",
    "time.sleep(0.5)\n",
    "\n",
    "# 새로 열린 페이지로 전환 \n",
    "driver.switch_to.window(driver.window_handles[-1])\n",
    "\n",
    "# 현재 url 가져오기\n",
    "final_url = driver.current_url\n",
    "driver.quit()\n",
    "print(final_url)\n",
    "#------------------------------------------------------------------------------현재 url// 이전에는 웹페이지 접속경로임\n",
    "\n",
    "response = requests.get(final_url)\n",
    "soup = BeautifulSoup(response.text, \"html.parser\")\n",
    "\n",
    "image_tag = soup.select_one(\".fr-view img\")\n",
    "image_src = image_tag.get(\"src\")\n",
    "img_url = \"https://www.smu.ac.kr\" + image_src\n",
    "\n",
    "now = datetime.datetime.now()\n",
    "image_path = f\"학생식당/\" + now.strftime(\"%m%d\") + \".png\"\n",
    "\n",
    "urllib.request.urlretrieve(img_url, image_path) "
   ]
  },
  {
   "cell_type": "code",
   "execution_count": 41,
   "metadata": {},
   "outputs": [],
   "source": [
    "import cv2\n",
    "import os\n",
    "# from google.colab.patches import cv2_imshow\n",
    "from datetime import datetime\n",
    "\n",
    "# Read the image\n",
    "image = cv2.imread(image_path)\n",
    "gray = cv2.cvtColor(image, cv2.COLOR_BGR2GRAY)\n",
    "\n",
    "# Apply thresholding or any other preprocessing steps if needed\n",
    "# For example, you can use cv2.threshold\n",
    "_, thresh = cv2.threshold(gray, 128, 255, cv2.THRESH_BINARY)\n",
    "\n",
    "# Find contours\n",
    "contours, _ = cv2.findContours(thresh, cv2.RETR_EXTERNAL, cv2.CHAIN_APPROX_SIMPLE)\n",
    "\n",
    "# Create a directory to save the cropped images\n",
    "output_dir_cropped = f\"학생식당/cropped_images_student1203\"\n",
    "os.makedirs(output_dir_cropped, exist_ok=True)\n",
    "\n",
    "# Loop through each contour\n",
    "for i, cnt in enumerate(contours):\n",
    "    x, y, w, h = cv2.boundingRect(cnt)\n",
    "\n",
    "    # Check the specified conditions\n",
    "    if h >= 100 and 100 <= w < 800:\n",
    "        # Crop the region of interest (ROI)\n",
    "        cropped_image = image[y:y+h, x:x+w]\n",
    "\n",
    "        # Save the cropped image\n",
    "        relative_output_path = os.path.join(output_dir_cropped, f\"student{i}.png\")\n",
    "        cv2.imwrite(relative_output_path, cropped_image)\n",
    "\n"
   ]
  }
 ],
 "metadata": {
  "kernelspec": {
   "display_name": "Python 3",
   "language": "python",
   "name": "python3"
  },
  "language_info": {
   "name": "python",
   "version": "3.11.6"
  }
 },
 "nbformat": 4,
 "nbformat_minor": 2
}
